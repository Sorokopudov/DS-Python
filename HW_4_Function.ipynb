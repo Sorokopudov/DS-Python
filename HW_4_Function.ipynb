{
 "cells": [
  {
   "cell_type": "code",
   "execution_count": 260,
   "metadata": {},
   "outputs": [],
   "source": [
    "documents = [\n",
    " {'type': 'passport', 'number': '2207 876234', 'name': 'Василий Гупкин'},\n",
    " {'type': 'invoice', 'number': '11-2', 'name': 'Геннадий Покемонов'},\n",
    " {'type': 'insurance', 'number': '10006', 'name': 'Аристарх Павлов'}\n",
    "]\n",
    "directories = {\n",
    " '1': ['2207 876234', '11-2'],\n",
    " '2': ['10006'],\n",
    " '3': []\n",
    "}\n"
   ]
  },
  {
   "cell_type": "code",
   "execution_count": 334,
   "metadata": {},
   "outputs": [],
   "source": [
    "# Пользователь по команде “p” может узнать владельца документа по его номеру\n",
    "def document_owner(document_number):\n",
    "    document_number = input('Введите номер документа:')\n",
    "    a_2 = 0\n",
    "    for a in documents:\n",
    "        if a['number'] == document_number:\n",
    "            print(f\"Владелец документа: {a['name']}\")\n",
    "            a_2 += 1\n",
    "    if a_2 == 0:\n",
    "        print('Документ не найден в базе')\n",
    "    return document_number\n",
    "            "
   ]
  },
  {
   "cell_type": "code",
   "execution_count": 302,
   "metadata": {},
   "outputs": [],
   "source": [
    "# Пункт 2. Пользователь по команде \"s\" может по номеру документа узнать на какой полке он хранится\n",
    "def document_shelf(document_number):\n",
    "    document_number = input('Введите номер документа: ')\n",
    "    b_2=0\n",
    "    for b in directories:\n",
    "        if document_number in directories[b]:\n",
    "            print('Документ хранится на полке: ', b)\n",
    "            b_2 += 1\n",
    "    if b_2 == 0:\n",
    "        print('Документ не найден в базе')\n",
    "    return document_shelf\n"
   ]
  },
  {
   "cell_type": "code",
   "execution_count": 303,
   "metadata": {},
   "outputs": [],
   "source": [
    "# Пункт 3. Пользователь по команде \"l\" может увидеть полную информацию по всем документам\n",
    "def all_documents():\n",
    "    for a_3 in documents:\n",
    "        number_ = a_3['number']\n",
    "        for shelf_number in directories:\n",
    "            if number_ in directories[shelf_number]:\n",
    "                shelf = shelf_number           \n",
    "        print(f\"№: {a_3['number']}, тип: {a_3['type']}, владелец: {a_3['name']}, полка хранения: {shelf}\")\n",
    "    return all_documents   \n",
    "     "
   ]
  },
  {
   "cell_type": "code",
   "execution_count": 306,
   "metadata": {},
   "outputs": [],
   "source": [
    "# Пункт 4. Пользователь по команде \"ads\" может добавить новую полку\n",
    "def new_shelf(new_shelf_4):\n",
    "    new_shelf_4 = input('Введите номер полки: ')\n",
    "    if new_shelf_4 in directories: \n",
    "        print(f\"Такая полка уже существует. Текущий перечень полок: {', '.join(directories.keys())}\")\n",
    "    else:\n",
    "        directories[new_shelf_4] = []\n",
    "        print(f\"Полка добавлена. Текущий перечень полок: {', '.join(directories.keys())}\")\n",
    "    return new_shelf \n",
    "\n"
   ]
  },
  {
   "cell_type": "code",
   "execution_count": 332,
   "metadata": {},
   "outputs": [],
   "source": [
    "# Пункт 5. Пользователь по команде \"ds\" может удалить существующую полку из данных (только если она пустая)\n",
    "def del_shelf(del_shelf_5):\n",
    "    del_shelf_5 = input('Введите номер полки: ')\n",
    "    if del_shelf_5 in directories:\n",
    "        if len(directories[del_shelf_5]) == 0:\n",
    "            del directories[del_shelf_5] \n",
    "            print(f\"Полка удалена. Текущий перечень полок: {', '.join(directories.keys())}\")\n",
    "        elif len(directories[del_shelf_5]) != 0:            \n",
    "            print(f\"На полке есть документы, удалите их перед удалением полки. Текущий перечень полок: {', '.join(directories.keys())}\")\n",
    "    else:\n",
    "        print(f\"Такой полки не существует. Текущий перечень полок: {', '.join(directories.keys())}\")\n",
    "    return del_shelf\n",
    "\n"
   ]
  },
  {
   "cell_type": "code",
   "execution_count": 335,
   "metadata": {},
   "outputs": [],
   "source": [
    "def main():\n",
    "    while True:\n",
    "        user_input = input('Введите команды: ')\n",
    "        if user_input == 'p':\n",
    "            document_number_1 = document_owner(document_number)\n",
    "        elif user_input == 's': \n",
    "            document_shelf_1 = document_shelf(document_number) \n",
    "        elif user_input == 'l': \n",
    "            all_documents_ = all_documents()\n",
    "        elif user_input == 'ads':\n",
    "            new_shelf_ = new_shelf(new_shelf_4)\n",
    "        elif user_input == 'ds':\n",
    "            del_shelf_ = del_shelf(del_shelf_5)\n",
    "        elif user_input == 'q':\n",
    "            print('Работа программы завершена')\n",
    "            break"
   ]
  },
  {
   "cell_type": "code",
   "execution_count": 336,
   "metadata": {},
   "outputs": [
    {
     "name": "stdout",
     "output_type": "stream",
     "text": [
      "Введите команды: p\n",
      "Введите номер документа:10006\n",
      "Владелец документа: Аристарх Павлов\n",
      "Введите команды: p\n",
      "Введите номер документа:12345\n",
      "Документ не найден в базе\n",
      "Введите команды: s\n",
      "Введите номер документа: 10006\n",
      "Документ хранится на полке:  2\n",
      "Введите команды: p\n",
      "Введите номер документа:12345\n",
      "Документ не найден в базе\n",
      "Введите команды: l\n",
      "№: 2207 876234, тип: passport, владелец: Василий Гупкин, полка хранения: 1\n",
      "№: 11-2, тип: invoice, владелец: Геннадий Покемонов, полка хранения: 1\n",
      "№: 10006, тип: insurance, владелец: Аристарх Павлов, полка хранения: 2\n",
      "Введите команды: ads\n",
      "Введите номер полки: 3\n",
      "Такая полка уже существует. Текущий перечень полок: 1, 2, 3, 4\n",
      "Введите команды: 5\n",
      "Введите команды: ads\n",
      "Введите номер полки: 5\n",
      "Полка добавлена. Текущий перечень полок: 1, 2, 3, 4, 5\n",
      "Введите команды: ds\n",
      "Введите номер полки: 4\n",
      "Полка удалена. Текущий перечень полок: 1, 2, 3, 5\n",
      "Введите команды: ds\n",
      "Введите номер полки: 5\n",
      "Полка удалена. Текущий перечень полок: 1, 2, 3\n",
      "Введите команды: ds\n",
      "Введите номер полки: 1\n",
      "На полке есть документы, удалите их перед удалением полки. Текущий перечень полок: 1, 2, 3\n",
      "Введите команды: q\n",
      "Работа программы завершена\n"
     ]
    }
   ],
   "source": [
    "main()"
   ]
  }
 ],
 "metadata": {
  "kernelspec": {
   "display_name": "Python 3",
   "language": "python",
   "name": "python3"
  },
  "language_info": {
   "codemirror_mode": {
    "name": "ipython",
    "version": 3
   },
   "file_extension": ".py",
   "mimetype": "text/x-python",
   "name": "python",
   "nbconvert_exporter": "python",
   "pygments_lexer": "ipython3",
   "version": "3.8.3"
  }
 },
 "nbformat": 4,
 "nbformat_minor": 4
}
